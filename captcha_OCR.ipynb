{
 "cells": [
  {
   "cell_type": "markdown",
   "id": "267179b8",
   "metadata": {},
   "source": [
    "# CAPTCHA - ORC\n",
    "    author: Oleg Naidovich\n",
    "    \n",
    "Работа будет оцениваться по следующим критериям:\n",
    "1. Качество кода\n",
    "2. Качество реализованного подхода\n",
    "3. Качество описания принимаемых решений и анализа ошибок\n",
    "4. Финальные метрики"
   ]
  },
  {
   "cell_type": "markdown",
   "id": "6558df94",
   "metadata": {},
   "source": [
    "# 1. Подготовка данных \n",
    "```\n",
    "Нужно реализовать класс данных (наследник torch.utils.data.Dataset). Класс должен считывать входные изображения и выделять метки из имён файлов. Для чтения изображений предлагается использовать библиотеку Pillow. Дирректория содержит набор данных, который необходимо разделить на тренировочную и тестовую выборки в отношении четыре к одному.\n",
    "\n",
    "```"
   ]
  },
  {
   "cell_type": "code",
   "execution_count": 1,
   "id": "c91ac599",
   "metadata": {},
   "outputs": [],
   "source": [
    "import os\n",
    "from torch.utils.data import Dataset, DataLoader\n",
    "from torchvision import transforms\n",
    "from sklearn.model_selection import train_test_split\n",
    "from PIL import Image"
   ]
  },
  {
   "cell_type": "code",
   "execution_count": 2,
   "id": "a6b18d56",
   "metadata": {},
   "outputs": [],
   "source": [
    "class MyDataset(Dataset):\n",
    "    def __init__(self, data_dir, image_names):\n",
    "        self.data_dir = data_dir\n",
    "        self.image_names = image_names\n",
    "        self.mean = (0.485, 0.456, 0.406)\n",
    "        self.std = (0.229, 0.224, 0.225)\n",
    "        \n",
    "    def __len__(self):\n",
    "        return len(self.image_names)\n",
    "    \n",
    "    def __getitem__(self, index):\n",
    "        image_name = self.image_names[index]\n",
    "        image_fp = os.path.join(self.data_dir, image_name)\n",
    "        image = Image.open(image_fp).convert('RGB')\n",
    "        image = self.transform(image)\n",
    "        text = image_name.split(\".\")[0]\n",
    "        return image, text\n",
    "    \n",
    "    def transform(self, image):\n",
    "        transform_ops = transforms.Compose([\n",
    "            transforms.ToTensor(),\n",
    "            transforms.Normalize(mean=self.mean, std=self.std)])\n",
    "        return transform_ops(image)"
   ]
  },
  {
   "cell_type": "code",
   "execution_count": 3,
   "id": "bbcbcf71",
   "metadata": {},
   "outputs": [],
   "source": [
    "def get_train_test_loaders(data_path, image_names, batch_size):\n",
    "    image_names_train, image_names_test = train_test_split(image_names, random_state=0)\n",
    "\n",
    "    train_dataset = MyDataset(data_path, image_names_train) \n",
    "    test_dataset = MyDataset(data_path, image_names_test)\n",
    "    \n",
    "    train_loader = DataLoader(train_dataset, batch_size=batch_size)\n",
    "    test_loader = DataLoader(test_dataset, batch_size=batch_size)\n",
    "    return train_loader, test_loader"
   ]
  },
  {
   "cell_type": "code",
   "execution_count": 4,
   "id": "a68f659b",
   "metadata": {},
   "outputs": [],
   "source": [
    "data_path = 'data/'\n",
    "image_names = os.listdir(data_path)\n",
    "image_names.remove('samples')\n",
    "batch_size = 8\n",
    "\n",
    "train_loader, test_loader = get_train_test_loaders(data_path, image_names, batch_size)"
   ]
  },
  {
   "cell_type": "code",
   "execution_count": 5,
   "id": "dce8878f",
   "metadata": {},
   "outputs": [],
   "source": [
    "img_batch, text_batch = next(iter(train_loader))"
   ]
  },
  {
   "cell_type": "code",
   "execution_count": 6,
   "id": "37762629",
   "metadata": {},
   "outputs": [
    {
     "data": {
      "text/plain": [
       "torch.Size([8, 3, 50, 200])"
      ]
     },
     "execution_count": 6,
     "metadata": {},
     "output_type": "execute_result"
    }
   ],
   "source": [
    "img_batch.size()"
   ]
  },
  {
   "cell_type": "markdown",
   "id": "dca8024c",
   "metadata": {},
   "source": [
    "# 2. Создание и обучение модели. \n",
    "    Код модели должен быть реализован через слои стандартной библиотеки torch (torchvision.models и аналоги использовать нельзя). Поскольку число символов в капче фиксировано, можно использовать обычный кросс- энтропийный критерий. Желающие могут использовать и CTC-loss. Цикл обучения можно реализовать самостоятельно или воспользоваться библиотеками PyTorch Lightning / Catalyst."
   ]
  },
  {
   "cell_type": "markdown",
   "id": "3ff6502d",
   "metadata": {},
   "source": [
    "## Initialize model"
   ]
  },
  {
   "cell_type": "code",
   "execution_count": 7,
   "id": "9010cbce",
   "metadata": {},
   "outputs": [],
   "source": [
    "import torch\n",
    "from torchvision.models import resnet18\n",
    "import torch.nn as nn\n"
   ]
  },
  {
   "cell_type": "code",
   "execution_count": 8,
   "id": "50b60e6a",
   "metadata": {},
   "outputs": [],
   "source": [
    "# NotImplementedError: The operator 'aten::_ctc_loss' is not currently implemented for the MPS device\n",
    "device = torch.device('cpu')"
   ]
  },
  {
   "cell_type": "code",
   "execution_count": 9,
   "id": "48f02922",
   "metadata": {},
   "outputs": [
    {
     "name": "stderr",
     "output_type": "stream",
     "text": [
      "/Users/oleg-nai/opt/miniconda3/lib/python3.9/site-packages/torchvision/models/_utils.py:223: UserWarning: Arguments other than a weight enum or `None` for 'weights' are deprecated since 0.13 and may be removed in the future. The current behavior is equivalent to passing `weights=None`.\n",
      "  warnings.warn(msg)\n"
     ]
    }
   ],
   "source": [
    "RESNET = resnet18(weights=False)\n",
    "# not to use pretrained params!!!"
   ]
  },
  {
   "cell_type": "code",
   "execution_count": 10,
   "id": "5a45b64a",
   "metadata": {},
   "outputs": [],
   "source": [
    "class CRNN(nn.Module):\n",
    "    def __init__(self, n_chars):\n",
    "        super(CRNN, self).__init__()\n",
    "\n",
    "        self.cnn1 = nn.Sequential(*list(RESNET.children())[:-3])\n",
    "        self.cnn2 = nn.Sequential(\n",
    "            nn.Conv2d(256, 256, kernel_size=(3, 3), stride=1, padding=1),\n",
    "            nn.BatchNorm2d(256),\n",
    "            nn.ReLU(inplace=True))\n",
    "        \n",
    "        self.lin1 = nn.Linear(1024, 256)\n",
    "        self.lin2 = nn.Linear(256*2, n_chars)\n",
    "\n",
    "        self.rnn1 = nn.GRU(input_size=256, \n",
    "                            hidden_size=256,\n",
    "                            bidirectional=True, \n",
    "                            batch_first=True)\n",
    "        self.rnn2 = nn.GRU(input_size=256, \n",
    "                            hidden_size=256,\n",
    "                            bidirectional=True, \n",
    "                            batch_first=True)\n",
    "        \n",
    "    def forward(self, batch):\n",
    "        batch = self.cnn1(batch)\n",
    "        batch = self.cnn2(batch) \n",
    "        batch = batch.permute(0, 3, 1, 2) \n",
    "         \n",
    "        batch = batch.view(batch.size(0), batch.size(1), -1) \n",
    "        batch = self.lin1(batch)\n",
    "        \n",
    "        batch, hidden = self.rnn1(batch)\n",
    "        batch = batch[:, :, :batch.size(2)//2] + batch[:, :, batch.size(2)//2:]\n",
    "        \n",
    "        batch, hidden = self.rnn2(batch)\n",
    "        batch = self.lin2(batch)\n",
    "        batch = batch.permute(1, 0, 2) \n",
    "        return batch"
   ]
  },
  {
   "cell_type": "code",
   "execution_count": 11,
   "id": "3d9892d2",
   "metadata": {},
   "outputs": [],
   "source": [
    "boot = \"\".join([image_name.split(\".\")[0] for image_name in image_names])\n",
    "vocabulary = sorted(list(set(list(boot)))) + [\"-\"]\n",
    "\n",
    "id_to_char = {k:v for k,v in enumerate(vocabulary, start=0)}\n",
    "char_to_idx = {v:k for k,v in id_to_char.items()}\n",
    "\n",
    "n_chars = len(char_to_idx)\n"
   ]
  },
  {
   "cell_type": "code",
   "execution_count": 12,
   "id": "7ad3742c",
   "metadata": {},
   "outputs": [],
   "source": [
    "crnn = CRNN(n_chars)\n",
    "crnn = crnn.to(device)"
   ]
  },
  {
   "cell_type": "code",
   "execution_count": 13,
   "id": "86690f4b",
   "metadata": {},
   "outputs": [
    {
     "name": "stdout",
     "output_type": "stream",
     "text": [
      "('6e2dg', 'm75bf', '7e2y7', 'x362g', 'nc4yg', '68x48', 'x347n', 'ec6pm')\n",
      "torch.Size([13, 8, 20])\n"
     ]
    }
   ],
   "source": [
    "text_batch_logits = crnn(img_batch.to(device))\n",
    "print(text_batch)\n",
    "print(text_batch_logits.shape)"
   ]
  },
  {
   "cell_type": "markdown",
   "id": "e40abded",
   "metadata": {},
   "source": [
    "## Initialize loss"
   ]
  },
  {
   "cell_type": "code",
   "execution_count": 14,
   "id": "a0629c5c",
   "metadata": {},
   "outputs": [],
   "source": [
    "import torch.nn.functional as F"
   ]
  },
  {
   "cell_type": "code",
   "execution_count": 15,
   "id": "99a8d00c",
   "metadata": {},
   "outputs": [],
   "source": [
    "criterion = nn.CTCLoss()"
   ]
  },
  {
   "cell_type": "code",
   "execution_count": 16,
   "id": "644da1de",
   "metadata": {},
   "outputs": [],
   "source": [
    "def get_loss(batch, batch_logits):\n",
    "    def ecode_batch(batch):\n",
    "        boot = \"\".join(batch)\n",
    "        txt_target = torch.IntTensor([char_to_idx[c] for c in boot])\n",
    "        return txt_target, torch.IntTensor([len(text) for text in batch])\n",
    "\n",
    "    batch_log = F.log_softmax(batch_logits, 2) \n",
    "    batch_log_len = torch.full(size=(batch_log.size(1),), \n",
    "                                     fill_value=batch_log.size(0), \n",
    "                                     dtype=torch.int32).to(device)\n",
    "\n",
    "    batch_targets, batch_targets_len = ecode_batch(batch)\n",
    "    loss = criterion(batch_log, batch_targets, batch_log_len, batch_targets_len)\n",
    "    return loss"
   ]
  },
  {
   "cell_type": "code",
   "execution_count": 17,
   "id": "d2e15467",
   "metadata": {},
   "outputs": [
    {
     "data": {
      "text/plain": [
       "tensor(5.5858, grad_fn=<MeanBackward0>)"
      ]
     },
     "execution_count": 17,
     "metadata": {},
     "output_type": "execute_result"
    }
   ],
   "source": [
    "get_loss(text_batch, text_batch_logits)"
   ]
  },
  {
   "cell_type": "markdown",
   "id": "c5319e64",
   "metadata": {},
   "source": [
    "## train model"
   ]
  },
  {
   "cell_type": "code",
   "execution_count": 18,
   "id": "9127c9f6",
   "metadata": {},
   "outputs": [],
   "source": [
    "import torch.optim as optim\n",
    "import numpy as np\n",
    "import matplotlib.pyplot as plt\n",
    "from IPython import display\n",
    "from tqdm import tqdm"
   ]
  },
  {
   "cell_type": "code",
   "execution_count": 19,
   "id": "c7df1c26",
   "metadata": {},
   "outputs": [],
   "source": [
    "def plot_loss(iteration_losses):\n",
    "    display.clear_output(wait=True)\n",
    "    plt.figure(figsize=(10, 5))\n",
    "    plt.title(\"Training loss\")\n",
    "    plt.xlabel(\"Iterations\")\n",
    "    plt.ylabel(\"Loss\")\n",
    "    plt.plot(iteration_losses)\n",
    "    plt.show()"
   ]
  },
  {
   "cell_type": "code",
   "execution_count": 20,
   "id": "5e7030f1",
   "metadata": {},
   "outputs": [],
   "source": [
    "crnn = CRNN(n_chars)\n",
    "crnn = crnn.to(device)"
   ]
  },
  {
   "cell_type": "code",
   "execution_count": 21,
   "id": "514f5e4b",
   "metadata": {},
   "outputs": [],
   "source": [
    "optimizer = optim.Adam(crnn.parameters())"
   ]
  },
  {
   "cell_type": "code",
   "execution_count": 22,
   "id": "72f5d69c",
   "metadata": {},
   "outputs": [
    {
     "data": {
      "image/png": "[encoded data removed]",
      "text/plain": [
       "<Figure size 1000x500 with 1 Axes>"
      ]
     },
     "metadata": {},
     "output_type": "display_data"
    },
    {
     "name": "stdout",
     "output_type": "stream",
     "text": [
      "Epoch:50 Iteration_loss:-0.5346062779426575\n"
     ]
    }
   ],
   "source": [
    "n_epochs = 50\n",
    "iteration_losses = []\n",
    "\n",
    "for epoch in range(1, n_epochs+1):\n",
    "    for img_batch, text_batch in train_loader:\n",
    "        optimizer.zero_grad()\n",
    "        text_batch_logits = crnn(img_batch.to(device))\n",
    "        loss = get_loss(text_batch, text_batch_logits)\n",
    "        iteration_loss = loss.item()\n",
    "\n",
    "        iteration_losses.append(iteration_loss)\n",
    "        \n",
    "        loss.backward()\n",
    "        optimizer.step()\n",
    "        \n",
    "        plot_loss(iteration_losses)\n",
    "        print(\"Epoch:{} Iteration_loss:{}\".format(epoch, iteration_loss))"
   ]
  },
  {
   "cell_type": "markdown",
   "id": "ae709ae0",
   "metadata": {},
   "source": [
    "# 3. Подсчет метрик. \n",
    "    После обучения нужно оценить точность предсказания на тестовой выборке. В качестве метрики предлагается использовать долю неверно распознанных символов, Character Error Rate (CER)."
   ]
  },
  {
   "cell_type": "code",
   "execution_count": 23,
   "id": "5187af8e",
   "metadata": {},
   "outputs": [],
   "source": [
    "import pandas as pd"
   ]
  },
  {
   "cell_type": "code",
   "execution_count": 24,
   "id": "fa1f538e",
   "metadata": {},
   "outputs": [],
   "source": [
    "def decode_preds(batch_logits):\n",
    "    batch_tokens = F.softmax(batch_logits, 2).argmax(2).numpy().T\n",
    "    boot = []\n",
    "    for tokens in batch_tokens:\n",
    "        text = [id_to_char[idx] for idx in tokens]\n",
    "        text = \"\".join(text)\n",
    "        boot.append(text)\n",
    "    return boot\n",
    "\n",
    "\n",
    "def get_norm_preds(word):\n",
    "    def rem(txt):\n",
    "        if len(txt) > 1:\n",
    "            tt = [txt[0]] + [lett for idx, lett in enumerate(txt[1:], start=1) if txt[idx] != txt[idx-1]]\n",
    "        elif len(txt) == 1:\n",
    "            tt = [txt[0]]\n",
    "        else:\n",
    "            return \"\"\n",
    "        return \"\".join(tt)\n",
    "\n",
    "    parts = word.split(\"-\")\n",
    "    parts = [rem(part) for part in parts]\n",
    "    corr_word = \"\".join(parts)\n",
    "    return corr_word"
   ]
  },
  {
   "cell_type": "code",
   "execution_count": 25,
   "id": "4b79aceb",
   "metadata": {},
   "outputs": [],
   "source": [
    "def get_results(is_train=True):\n",
    "    if is_train: \n",
    "        loader = train_loader\n",
    "    else:\n",
    "        loader = test_loader\n",
    "    res = pd.DataFrame(columns=['truth', 'preds'])\n",
    "    for image_batch, batch in loader:\n",
    "        batch_log = crnn(image_batch.to(device))\n",
    "        batch_pred = decode_preds(batch_log.cpu())\n",
    "        df = pd.DataFrame(columns=['truth', 'preds'])\n",
    "        df['truth'] = batch\n",
    "        df['preds'] = batch_pred\n",
    "        res = pd.concat([res, df])\n",
    "    res = res.reset_index(drop=True)\n",
    "    res['preds'] = res['preds'].apply(get_norm_preds)\n",
    "    return res"
   ]
  },
  {
   "cell_type": "code",
   "execution_count": 26,
   "id": "1ca18ed5",
   "metadata": {},
   "outputs": [],
   "source": [
    "train_res = get_results(True)\n",
    "test_res = get_results(False)"
   ]
  },
  {
   "cell_type": "code",
   "execution_count": 27,
   "id": "16f8b84c",
   "metadata": {},
   "outputs": [
    {
     "data": {
      "text/html": [
       "<div>\n",
       "<style scoped>\n",
       "    .dataframe tbody tr th:only-of-type {\n",
       "        vertical-align: middle;\n",
       "    }\n",
       "\n",
       "    .dataframe tbody tr th {\n",
       "        vertical-align: top;\n",
       "    }\n",
       "\n",
       "    .dataframe thead th {\n",
       "        text-align: right;\n",
       "    }\n",
       "</style>\n",
       "<table border=\"1\" class=\"dataframe\">\n",
       "  <thead>\n",
       "    <tr style=\"text-align: right;\">\n",
       "      <th></th>\n",
       "      <th>truth</th>\n",
       "      <th>preds</th>\n",
       "    </tr>\n",
       "  </thead>\n",
       "  <tbody>\n",
       "    <tr>\n",
       "      <th>0</th>\n",
       "      <td>6e2dg</td>\n",
       "      <td>6e2d2g</td>\n",
       "    </tr>\n",
       "    <tr>\n",
       "      <th>1</th>\n",
       "      <td>m75bf</td>\n",
       "      <td>m275b2f</td>\n",
       "    </tr>\n",
       "    <tr>\n",
       "      <th>2</th>\n",
       "      <td>7e2y7</td>\n",
       "      <td>7e2y27</td>\n",
       "    </tr>\n",
       "    <tr>\n",
       "      <th>3</th>\n",
       "      <td>x362g</td>\n",
       "      <td>x362g</td>\n",
       "    </tr>\n",
       "    <tr>\n",
       "      <th>4</th>\n",
       "      <td>nc4yg</td>\n",
       "      <td>nc242y2g</td>\n",
       "    </tr>\n",
       "  </tbody>\n",
       "</table>\n",
       "</div>"
      ],
      "text/plain": [
       "   truth     preds\n",
       "0  6e2dg    6e2d2g\n",
       "1  m75bf   m275b2f\n",
       "2  7e2y7    7e2y27\n",
       "3  x362g     x362g\n",
       "4  nc4yg  nc242y2g"
      ]
     },
     "execution_count": 27,
     "metadata": {},
     "output_type": "execute_result"
    }
   ],
   "source": [
    "train_res.head()"
   ]
  },
  {
   "cell_type": "markdown",
   "id": "17a27751",
   "metadata": {},
   "source": [
    "# 4. Анализ ошибок модели. \n",
    "\n",
    "    В этой секции нужно найти изображения из тестового корпуса, на которых модель ошибается сильнее всего (по loss или по CER). Предлагается выписать в ноутбук возможные причины появления этих ошибок и пути устранения."
   ]
  },
  {
   "cell_type": "code",
   "execution_count": 35,
   "id": "141ea5a9",
   "metadata": {},
   "outputs": [],
   "source": [
    "from sklearn.metrics import accuracy_score"
   ]
  },
  {
   "cell_type": "code",
   "execution_count": 40,
   "id": "1b33a1db",
   "metadata": {},
   "outputs": [
    {
     "name": "stdout",
     "output_type": "stream",
     "text": [
      "0.04987531172069826\n",
      "0.018656716417910446\n"
     ]
    }
   ],
   "source": [
    "train_accuracy = accuracy_score(train_res['truth'], train_res['preds'])\n",
    "print(train_accuracy)\n",
    "test_accuracy = accuracy_score(test_res['truth'], test_res['preds'])\n",
    "print(test_accuracy)"
   ]
  }
 ],
 "metadata": {
  "kernelspec": {
   "display_name": "Python 3 (ipykernel)",
   "language": "python",
   "name": "python3"
  },
  "language_info": {
   "codemirror_mode": {
    "name": "ipython",
    "version": 3
   },
   "file_extension": ".py",
   "mimetype": "text/x-python",
   "name": "python",
   "nbconvert_exporter": "python",
   "pygments_lexer": "ipython3",
   "version": "3.9.12"
  }
 },
 "nbformat": 4,
 "nbformat_minor": 5
}
